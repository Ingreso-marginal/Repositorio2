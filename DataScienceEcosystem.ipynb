{
 "cells": [
  {
   "cell_type": "markdown",
   "id": "78bb5706-5342-4982-8d10-0276d78a1907",
   "metadata": {},
   "source": [
    "# Data Science Tools and Ecosystem"
   ]
  },
  {
   "cell_type": "markdown",
   "id": "168fad29-5474-4fc2-aff5-f771e13ae73b",
   "metadata": {
    "tags": []
   },
   "source": [
    "In this notebook, Data Science Tools and Ecosystem are summarized."
   ]
  },
  {
   "cell_type": "markdown",
   "id": "7b20acc8-d492-4ed7-8fc0-4898f789a267",
   "metadata": {},
   "source": [
    "**Objectives**\n",
    "\n",
    "* Order list\n",
    "* Unordered list\n",
    "* Titles\n",
    "* Code cells\n",
    "* Markdown cells"
   ]
  },
  {
   "cell_type": "markdown",
   "id": "bd4c1d0c-5448-4300-9917-6431538e7709",
   "metadata": {},
   "source": [
    "Some of the popular languages that Data Scientists use are:\n",
    "\n",
    "1. Python\n",
    "2. Java\n",
    "3. C++\n",
    "4. C"
   ]
  },
  {
   "cell_type": "markdown",
   "id": "307c8639-a62e-4f05-8667-63fd6c418b29",
   "metadata": {
    "tags": []
   },
   "source": [
    "Some of the commonly used libraries used by Data Scientists include:\n",
    "\n",
    "1. Pandas\n",
    "2. Ploty\n",
    "3. ggplot2\n",
    "4. Numpy\n",
    "5. dplyr"
   ]
  },
  {
   "cell_type": "markdown",
   "id": "a8df14fd-decf-4c3e-a9c4-5994139728eb",
   "metadata": {
    "tags": []
   },
   "source": [
    "|Data Science Tools|\n",
    "|------|\n",
    "|Python|\n",
    "|Anaconda| \n",
    "|Postgre SQL| \n",
    "|R|"
   ]
  },
  {
   "cell_type": "markdown",
   "id": "718b4481-ea3a-4dd3-81b9-a453d413080f",
   "metadata": {
    "tags": []
   },
   "source": [
    "### Below are a few examples of evaluating arithmetic expressions in Python."
   ]
  },
  {
   "cell_type": "code",
   "execution_count": 12,
   "id": "4cc49348-9182-4340-847c-b95e1df65b7b",
   "metadata": {
    "tags": []
   },
   "outputs": [
    {
     "name": "stdout",
     "output_type": "stream",
     "text": [
      "22\n"
     ]
    }
   ],
   "source": [
    "addition = 10 + 5 + 7\n",
    "print(addition)"
   ]
  },
  {
   "cell_type": "code",
   "execution_count": 13,
   "id": "c79f5186-4852-43ce-8240-cd823c54290e",
   "metadata": {
    "tags": []
   },
   "outputs": [
    {
     "name": "stdout",
     "output_type": "stream",
     "text": [
      "5\n"
     ]
    }
   ],
   "source": [
    "subtraction = 10 - 5\n",
    "print(subtraction)"
   ]
  },
  {
   "cell_type": "code",
   "execution_count": 15,
   "id": "70034bbd-d54e-47a8-a662-e5c534784b03",
   "metadata": {
    "tags": []
   },
   "outputs": [
    {
     "name": "stdout",
     "output_type": "stream",
     "text": [
      "100\n"
     ]
    }
   ],
   "source": [
    "product = 5 * 20\n",
    "print(product)"
   ]
  },
  {
   "cell_type": "markdown",
   "id": "443bc8cd-eeba-484d-a9fe-68e2172cc0c9",
   "metadata": {},
   "source": [
    "This a simple arithmetic expression to mutiply then add integers."
   ]
  },
  {
   "cell_type": "code",
   "execution_count": 16,
   "id": "c351ce7c-417d-49fb-93ba-08077cfd67c5",
   "metadata": {
    "tags": []
   },
   "outputs": [
    {
     "name": "stdout",
     "output_type": "stream",
     "text": [
      "17\n"
     ]
    }
   ],
   "source": [
    "expression = (3*4)+5\n",
    "print(expression)"
   ]
  },
  {
   "cell_type": "markdown",
   "id": "8f728493-8898-49ae-b053-62375ea55d32",
   "metadata": {},
   "source": [
    "This will convert 200 minutes to hours by diving by 60."
   ]
  },
  {
   "cell_type": "code",
   "execution_count": 17,
   "id": "e48e508a-c53b-440b-8dab-4a893856ebe7",
   "metadata": {
    "tags": []
   },
   "outputs": [
    {
     "name": "stdout",
     "output_type": "stream",
     "text": [
      "3.3333333333333335\n"
     ]
    }
   ],
   "source": [
    "convert = 200 / 60\n",
    "print(convert)"
   ]
  },
  {
   "cell_type": "markdown",
   "id": "8653fb7f-8d58-42ae-840a-aa8cbb6998c7",
   "metadata": {},
   "source": [
    "## Author\n",
    "Martín Garcés"
   ]
  },
  {
   "cell_type": "code",
   "execution_count": null,
   "id": "e36d2780-d0d1-4108-b911-05ee342b5268",
   "metadata": {},
   "outputs": [],
   "source": []
  }
 ],
 "metadata": {
  "kernelspec": {
   "display_name": "Python",
   "language": "python",
   "name": "conda-env-python-py"
  },
  "language_info": {
   "codemirror_mode": {
    "name": "ipython",
    "version": 3
   },
   "file_extension": ".py",
   "mimetype": "text/x-python",
   "name": "python",
   "nbconvert_exporter": "python",
   "pygments_lexer": "ipython3",
   "version": "3.7.12"
  }
 },
 "nbformat": 4,
 "nbformat_minor": 5
}
